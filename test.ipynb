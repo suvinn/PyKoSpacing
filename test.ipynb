{
 "cells": [
  {
   "cell_type": "code",
   "execution_count": 1,
   "metadata": {},
   "outputs": [
    {
     "name": "stderr",
     "output_type": "stream",
     "text": [
      "/Users/suvin/Desktop/STS_datateam/PyKoSpacing/pykospacing/kospacing.py:38: SyntaxWarning: invalid escape sequence '\\s'\n",
      "  self.rules[r] = re.compile('\\s*'.join(r))\n",
      "/Users/suvin/Desktop/STS_datateam/PyKoSpacing/pykospacing/kospacing.py:48: SyntaxWarning: invalid escape sequence '\\s'\n",
      "  self.rules[word] = re.compile('\\s*'.join(word))\n",
      "/Users/suvin/Desktop/STS_datateam/PyKoSpacing/pykospacing/kospacing.py:61: SyntaxWarning: invalid escape sequence '\\s'\n",
      "  self.rules[line[index]] = re.compile('\\s*'.join(line[index]))\n"
     ]
    }
   ],
   "source": [
    "from pykospacing import Spacing"
   ]
  },
  {
   "cell_type": "code",
   "execution_count": 3,
   "metadata": {},
   "outputs": [
    {
     "data": {
      "text/plain": [
       "\"김형호 영화시장 분석가는 '1987'의 네이버 영화 정보 네티즌 10점 평에서 언급된 단어들을 지난해 12월 27일부터 올해 1월 10일까지 통계 프로그램 R과 KoNLP 패키지로 텍스트마이닝하여 분석했다.\""
      ]
     },
     "execution_count": 3,
     "metadata": {},
     "output_type": "execute_result"
    }
   ],
   "source": [
    "spacing = Spacing()\n",
    "spacing(\"김형호영화시장분석가는'1987'의네이버영화정보네티즌10점평에서언급된단어들을지난해12월27일부터올해1월10일까지통계프로그램R과KoNLP패키지로텍스트마이닝하여분석했다.\")"
   ]
  },
  {
   "cell_type": "code",
   "execution_count": 4,
   "metadata": {},
   "outputs": [
    {
     "data": {
      "text/plain": [
       "'귀 밑에서 턱까지 잇따라 난 수염을 구레나 룻이라고 한다.'"
      ]
     },
     "execution_count": 4,
     "metadata": {},
     "output_type": "execute_result"
    }
   ],
   "source": [
    "# Apply a list of words that must be non-spacing\n",
    "spacing('귀밑에서턱까지잇따라난수염을구레나룻이라고한다.')"
   ]
  },
  {
   "cell_type": "code",
   "execution_count": 5,
   "metadata": {},
   "outputs": [
    {
     "data": {
      "text/plain": [
       "'귀 밑에서 턱까지 잇따라 난 수염을 구레나룻이라고 한다.'"
      ]
     },
     "execution_count": 5,
     "metadata": {},
     "output_type": "execute_result"
    }
   ],
   "source": [
    "spacing = Spacing(rules=['구레나룻'])\n",
    "spacing('귀밑에서턱까지잇따라난수염을구레나룻이라고한다.')"
   ]
  }
 ],
 "metadata": {
  "kernelspec": {
   "display_name": "3.12.4",
   "language": "python",
   "name": "python3"
  },
  "language_info": {
   "codemirror_mode": {
    "name": "ipython",
    "version": 3
   },
   "file_extension": ".py",
   "mimetype": "text/x-python",
   "name": "python",
   "nbconvert_exporter": "python",
   "pygments_lexer": "ipython3",
   "version": "3.12.4"
  }
 },
 "nbformat": 4,
 "nbformat_minor": 2
}
